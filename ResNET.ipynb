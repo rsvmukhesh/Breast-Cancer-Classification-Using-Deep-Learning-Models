{
 "cells": [
  {
   "cell_type": "markdown",
   "id": "34d9832a",
   "metadata": {},
   "source": [
    "# Recognition of abnormality from Breast Thermograms Using ConvXGB\n",
    "\n",
    "# Pre - trained ResNET - 50\n",
    "\n",
    "## Table of Contents\n",
    "- [1 - Packages](#1)\n",
    "- [2 - Test and Train Data](#2)\n",
    "- [3 - ResNET Model](#3)\n",
    "- [4 - Adam Optimizer](#4)\n",
    "- [5 - Saving the Best Model](#7)"
   ]
  },
  {
   "cell_type": "markdown",
   "id": "85902668",
   "metadata": {},
   "source": [
    "<a name='1'></a>\n",
    "# 1 - Packages"
   ]
  },
  {
   "cell_type": "code",
   "execution_count": 19,
   "id": "f467c6a7",
   "metadata": {},
   "outputs": [],
   "source": [
    "import pandas as pd\n",
    "import numpy as np \n",
    "import matplotlib.pyplot as plt\n",
    "import os\n",
    "from urllib.request import urlopen,urlretrieve\n",
    "from PIL import Image\n",
    "from tqdm import tqdm_notebook\n",
    "%matplotlib inline\n",
    "from sklearn.utils import shuffle\n",
    "import cv2\n",
    "\n",
    "from keras.models import load_model\n",
    "from sklearn.datasets import load_files   \n",
    "from keras.utils import np_utils\n",
    "from glob import glob\n",
    "from keras import applications\n",
    "from keras.preprocessing.image import ImageDataGenerator \n",
    "from keras import optimizers\n",
    "from keras.models import Sequential,Model,load_model\n",
    "from keras.layers import Dense, Dropout, Flatten, Conv2D, MaxPool2D,GlobalAveragePooling2D\n",
    "from keras.callbacks import TensorBoard,ReduceLROnPlateau,ModelCheckpoint"
   ]
  },
  {
   "cell_type": "markdown",
   "id": "4fe25cde",
   "metadata": {},
   "source": [
    "<a name='2'></a>\n",
    "# 2 - Test and Train Data"
   ]
  },
  {
   "cell_type": "code",
   "execution_count": 26,
   "id": "761c7d87",
   "metadata": {},
   "outputs": [],
   "source": [
    "path_test = \"C:/Users/rsvmu/Downloads/Data_2\"\n",
    "CATEGORIES = [\"Withcancer\",\"Withoutcancer\"]\n",
    "IMG_SIZE_X = 480\n",
    "IMG_SIZE_Y = 640"
   ]
  },
  {
   "cell_type": "code",
   "execution_count": 27,
   "id": "3ca7a5d7",
   "metadata": {},
   "outputs": [],
   "source": [
    "training = []\n",
    "def createTrainingData():\n",
    "    for category in CATEGORIES:\n",
    "        path = os.path.join(path_test, category)\n",
    "        class_num = CATEGORIES.index(category)\n",
    "        for img in os.listdir(path):\n",
    "            img_array = cv2.imread(os.path.join(path,img)) #Changing RGB to Gray_Scale \n",
    "#             aniso = anisodiff(img_array,) # Applying anistropic Diffusion Filter to Gray_scale Images\n",
    "            new_array = cv2.resize(img_array, (IMG_SIZE_X, IMG_SIZE_Y))\n",
    "            training.append([new_array, class_num])\n",
    "createTrainingData()"
   ]
  },
  {
   "cell_type": "code",
   "execution_count": 34,
   "id": "e01cda01",
   "metadata": {},
   "outputs": [],
   "source": [
    "X =[]\n",
    "y =[]\n",
    "for features, label in training:\n",
    "    X.append(features)\n",
    "    y.append(label)\n",
    "X = np.array(X).reshape(-1,IMG_SIZE_X, IMG_SIZE_Y,3)"
   ]
  },
  {
   "cell_type": "code",
   "execution_count": 35,
   "id": "d000a933",
   "metadata": {},
   "outputs": [
    {
     "name": "stdout",
     "output_type": "stream",
     "text": [
      "[1. 0.]\n",
      "(215, 2)\n"
     ]
    }
   ],
   "source": [
    "X = X.astype('float32')\n",
    "X /= 255\n",
    "from keras.utils import np_utils\n",
    "Y = np_utils.to_categorical(y, 2)\n",
    "print(Y[5])\n",
    "print(Y.shape)"
   ]
  },
  {
   "cell_type": "code",
   "execution_count": 36,
   "id": "9bd0bc1a",
   "metadata": {},
   "outputs": [
    {
     "data": {
      "text/plain": [
       "(215, 480, 640, 3)"
      ]
     },
     "execution_count": 36,
     "metadata": {},
     "output_type": "execute_result"
    }
   ],
   "source": [
    "X.shape"
   ]
  },
  {
   "cell_type": "code",
   "execution_count": 37,
   "id": "64fd6af8",
   "metadata": {},
   "outputs": [],
   "source": [
    "from sklearn.model_selection import train_test_split"
   ]
  },
  {
   "cell_type": "code",
   "execution_count": 38,
   "id": "ef24c31a",
   "metadata": {},
   "outputs": [],
   "source": [
    "X_train, X_test, Y_train, Y_test = train_test_split(X, Y, test_size = 0.25, random_state = 4)\n",
    "\n",
    "# # Normalize image vectors\n",
    "# X_train = X_train_orig/255.\n",
    "# X_test = X_test_orig/255.\n",
    "\n",
    "# Convert training and test labels to one hot matrices\n",
    "# Y_train = convert_to_one_hot(Y_train_orig, 6).T\n",
    "# Y_test = convert_to_one_hot(Y_test_orig, 6).T\n",
    "\n",
    "# print (\"number of training examples = \" + str(X_train.shape[0]))\n",
    "# print (\"number of test examples = \" + str(X_test.shape[0]))\n",
    "# print (\"X_train shape: \" + str(X_train.shape))\n",
    "# print (\"Y_train shape: \" + str(Y_train.shape))\n",
    "# print (\"X_test shape: \" + str(X_test.shape))\n",
    "# print (\"Y_test shape: \" + str(Y_test.shape))"
   ]
  },
  {
   "cell_type": "code",
   "execution_count": 39,
   "id": "ee9d0011",
   "metadata": {},
   "outputs": [
    {
     "data": {
      "text/plain": [
       "(161, 2)"
      ]
     },
     "execution_count": 39,
     "metadata": {},
     "output_type": "execute_result"
    }
   ],
   "source": [
    "Y_train.shape"
   ]
  },
  {
   "cell_type": "markdown",
   "id": "b6bbff8a",
   "metadata": {},
   "source": [
    "<a name='3'></a>\n",
    "# 3 - ResNET Model Model"
   ]
  },
  {
   "cell_type": "code",
   "execution_count": 40,
   "id": "dc73d27e",
   "metadata": {},
   "outputs": [],
   "source": [
    "import tensorflow"
   ]
  },
  {
   "cell_type": "code",
   "execution_count": 41,
   "id": "3376546f",
   "metadata": {},
   "outputs": [],
   "source": [
    "img_height,img_width = 480,640 \n",
    "num_classes = 2\n",
    "#If imagenet weights are being loaded, \n",
    "#input must have a static square shape (one of (128, 128), (160, 160), (192, 192), or (224, 224))\n",
    "base_model = tensorflow.keras.applications.resnet50.ResNet50(weights= None, include_top=False, input_shape= (img_height,img_width,3))"
   ]
  },
  {
   "cell_type": "code",
   "execution_count": 42,
   "id": "cac450f0",
   "metadata": {},
   "outputs": [],
   "source": [
    "x = base_model.output\n",
    "x = GlobalAveragePooling2D()(x)\n",
    "x = Dropout(0.7)(x)\n",
    "predictions = Dense(num_classes, activation= 'softmax')(x)\n",
    "model = Model(inputs = base_model.input, outputs = predictions)"
   ]
  },
  {
   "cell_type": "markdown",
   "id": "2ca711f5",
   "metadata": {},
   "source": [
    "<a name='4'></a>\n",
    "# 4 - Adam Optimizer"
   ]
  },
  {
   "cell_type": "code",
   "execution_count": 43,
   "id": "a20681f9",
   "metadata": {},
   "outputs": [],
   "source": [
    "from tensorflow.keras.optimizers import SGD, Adam\n",
    "# sgd = SGD(lr=lrate, momentum=0.9, decay=decay, nesterov=False)\n",
    "adam = Adam(lr=0.0001)\n",
    "model.compile(optimizer= adam, loss='binary_crossentropy', metrics=['accuracy'])"
   ]
  },
  {
   "cell_type": "markdown",
   "id": "cf8a9aa2",
   "metadata": {},
   "source": [
    "<a name='5'></a>\n",
    "# 5 -Saving the Best Model"
   ]
  },
  {
   "cell_type": "code",
   "execution_count": 44,
   "id": "2e29a19e",
   "metadata": {},
   "outputs": [],
   "source": [
    "X_train = tensorflow.stack(X_train)\n",
    "Y_train = tensorflow.stack(Y_train)"
   ]
  },
  {
   "cell_type": "code",
   "execution_count": null,
   "id": "ac529ead",
   "metadata": {},
   "outputs": [],
   "source": [
    "model.fit(X_train, Y_train, verbose=0, epochs=2)"
   ]
  },
  {
   "cell_type": "code",
   "execution_count": null,
   "id": "f8022a57",
   "metadata": {},
   "outputs": [],
   "source": [
    "X_train.shape"
   ]
  },
  {
   "cell_type": "code",
   "execution_count": null,
   "id": "d878cf65",
   "metadata": {},
   "outputs": [],
   "source": [
    "Y_train.shape"
   ]
  },
  {
   "cell_type": "code",
   "execution_count": null,
   "id": "917ba96b",
   "metadata": {},
   "outputs": [],
   "source": [
    "Y.shape"
   ]
  },
  {
   "cell_type": "code",
   "execution_count": null,
   "id": "7d7a1473",
   "metadata": {},
   "outputs": [],
   "source": []
  }
 ],
 "metadata": {
  "kernelspec": {
   "display_name": "Python 3",
   "language": "python",
   "name": "python3"
  },
  "language_info": {
   "codemirror_mode": {
    "name": "ipython",
    "version": 3
   },
   "file_extension": ".py",
   "mimetype": "text/x-python",
   "name": "python",
   "nbconvert_exporter": "python",
   "pygments_lexer": "ipython3",
   "version": "3.8.8"
  }
 },
 "nbformat": 4,
 "nbformat_minor": 5
}
