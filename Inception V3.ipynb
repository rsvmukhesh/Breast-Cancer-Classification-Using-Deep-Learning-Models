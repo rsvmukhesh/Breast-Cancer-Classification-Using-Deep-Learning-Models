{
 "cells": [
  {
   "cell_type": "markdown",
   "id": "34d9832a",
   "metadata": {},
   "source": [
    "# Recognition of abnormality from Breast Thermograms Using ConvXGB\n",
    "\n",
    "# Pre - Trained Inception V3\n",
    "\n",
    "## Table of Contents\n",
    "- [1 - Packages](#1)\n",
    "- [2 - Test and Train Data](#2)\n",
    "- [3 - Inception V3](#3)\n",
    "- [4 - Adam Optimizer](#4)\n",
    "- [5 - Saving the Best Model](#7)"
   ]
  },
  {
   "cell_type": "markdown",
   "id": "85902668",
   "metadata": {},
   "source": [
    "<a name='1'></a>\n",
    "# 1 - Packages"
   ]
  },
  {
   "cell_type": "code",
   "execution_count": 19,
   "id": "f467c6a7",
   "metadata": {},
   "outputs": [],
   "source": [
    "import pandas as pd\n",
    "import numpy as np \n",
    "import matplotlib.pyplot as plt\n",
    "import os\n",
    "from urllib.request import urlopen,urlretrieve\n",
    "from PIL import Image\n",
    "from tqdm import tqdm_notebook\n",
    "%matplotlib inline\n",
    "from sklearn.utils import shuffle\n",
    "import cv2\n",
    "\n",
    "from keras.models import load_model\n",
    "from sklearn.datasets import load_files   \n",
    "from keras.utils import np_utils\n",
    "from glob import glob\n",
    "from keras import applications\n",
    "from keras.preprocessing.image import ImageDataGenerator \n",
    "from keras import optimizers\n",
    "from keras.models import Sequential,Model,load_model\n",
    "from keras.layers import Dense, Dropout, Flatten, Conv2D, MaxPool2D,GlobalAveragePooling2D\n",
    "from keras.callbacks import TensorBoard,ReduceLROnPlateau,ModelCheckpoint"
   ]
  },
  {
   "cell_type": "markdown",
   "id": "4fe25cde",
   "metadata": {},
   "source": [
    "<a name='2'></a>\n",
    "# 2 - Test and Train Data"
   ]
  },
  {
   "cell_type": "code",
   "execution_count": 26,
   "id": "761c7d87",
   "metadata": {},
   "outputs": [],
   "source": [
    "trdata = ImageDataGenerator(rescale = 1./255., rotation_range = 40, width_shift_range = 0.2, \n",
    "                            height_shift_range = 0.2,shear_range = 0.2, zoom_range = 0.2, horizontal_flip = True)\n",
    "\n",
    "traindata = trdata.flow_from_directory(\"C:/Users/rsvmu/Downloads/Data/train\", \n",
    "                                                 target_size=(480,640), batch_size=16, \n",
    "                                                 class_mode='binary')\n",
    "tsdata = ImageDataGenerator( rescale = 1.0/255. )\n",
    "testdata = tsdata.flow_from_directory(\"C:/Users/rsvmu/Downloads/Data/Test\", \n",
    "                                                 target_size=(480,640), batch_size=16, \n",
    "                                                 class_mode='binary')\n"
   ]
  },
  {
   "cell_type": "markdown",
   "id": "b6bbff8a",
   "metadata": {},
   "source": [
    "<a name='3'></a>\n",
    "# 3 - ResNET Model Model"
   ]
  },
  {
   "cell_type": "code",
   "execution_count": 40,
   "id": "dc73d27e",
   "metadata": {},
   "outputs": [],
   "source": [
    "from tensorflow.keras.applications.inception_v3 import InceptionV3\n",
    "base_model = InceptionV3(input_shape = (480, 640, 3), include_top = False, weights = 'inveptionV3')"
   ]
  },
  {
   "cell_type": "code",
   "execution_count": 41,
   "id": "3376546f",
   "metadata": {},
   "outputs": [],
   "source": [
    "for layer in base_model.layers:\n",
    "    layer.trainable = False"
   ]
  },
  {
   "cell_type": "code",
   "execution_count": 42,
   "id": "cac450f0",
   "metadata": {},
   "outputs": [],
   "source": [
    "x = base_model.output\n",
    "x = GlobalAveragePooling2D()(x)\n",
    "x = Dropout(0.7)(x)\n",
    "predictions = Dense(num_classes, activation= 'softmax')(x)\n",
    "model = Model(inputs = base_model.input, outputs = predictions)"
   ]
  },
  {
   "cell_type": "markdown",
   "id": "2ca711f5",
   "metadata": {},
   "source": [
    "<a name='4'></a>\n",
    "# 4 - Adam Optimizer"
   ]
  },
  {
   "cell_type": "code",
   "execution_count": 43,
   "id": "a20681f9",
   "metadata": {},
   "outputs": [],
   "source": [
    "from tensorflow.keras.optimizers import RMSprop\n",
    "\n",
    "x = layers.Flatten()(base_model.output)\n",
    "x = layers.Dense(1024, activation='relu')(x)\n",
    "x = layers.Dropout(0.2)(x)\n",
    "\n",
    "# Add a final sigmoid layer with 1 node for classification output\n",
    "x = layers.Dense(1, activation='sigmoid')(x)\n",
    "\n",
    "model = tf.keras.models.Model(base_model.input, x)\n",
    "\n",
    "model.compile(optimizer = RMSprop(lr=0.0001), loss = 'binary_crossentropy', metrics = ['acc'])"
   ]
  },
  {
   "cell_type": "markdown",
   "id": "cf8a9aa2",
   "metadata": {},
   "source": [
    "<a name='5'></a>\n",
    "# 5 -Saving the Best Model"
   ]
  },
  {
   "cell_type": "code",
   "execution_count": 1,
   "id": "c472b67d",
   "metadata": {},
   "outputs": [
    {
     "name": "stdout",
     "output_type": "stream",
     "text": [
      "1\n"
     ]
    }
   ],
   "source": [
    "inc_history = model.fit_generator(train_generator, validation_data = validation_generator, steps_per_epoch = 100, epochs = 10)"
   ]
  },
  {
   "cell_type": "code",
   "execution_count": null,
   "id": "7d7a1473",
   "metadata": {},
   "outputs": [],
   "source": []
  }
 ],
 "metadata": {
  "kernelspec": {
   "display_name": "Python 3",
   "language": "python",
   "name": "python3"
  },
  "language_info": {
   "codemirror_mode": {
    "name": "ipython",
    "version": 3
   },
   "file_extension": ".py",
   "mimetype": "text/x-python",
   "name": "python",
   "nbconvert_exporter": "python",
   "pygments_lexer": "ipython3",
   "version": "3.8.8"
  }
 },
 "nbformat": 4,
 "nbformat_minor": 5
}
