{
 "cells": [
  {
   "cell_type": "markdown",
   "id": "34d9832a",
   "metadata": {},
   "source": [
    "# Recognition of abnormality from Breast Thermograms Using ConvXGB\n",
    "\n",
    "# Pre - trained VGG - 16\n",
    "\n",
    "## Table of Contents\n",
    "- [1 - Packages](#1)\n",
    "- [2 - Test and Train Data](#2)\n",
    "- [3 - VGG - 16 Model](#3)\n",
    "- [4 - Adam Optimizer](#4)\n",
    "- [5 - Saving the Best Model](#7)"
   ]
  },
  {
   "cell_type": "markdown",
   "id": "85902668",
   "metadata": {},
   "source": [
    "<a name='1'></a>\n",
    "# 1 - Packages"
   ]
  },
  {
   "cell_type": "code",
   "execution_count": 5,
   "id": "f467c6a7",
   "metadata": {},
   "outputs": [],
   "source": [
    "import keras,os\n",
    "from keras.models import Sequential\n",
    "from keras.layers import Dense, Conv2D, MaxPool2D , Flatten, GlobalAveragePooling2D\n",
    "from keras.preprocessing.image import ImageDataGenerator\n",
    "import numpy as np"
   ]
  },
  {
   "cell_type": "markdown",
   "id": "4fe25cde",
   "metadata": {},
   "source": [
    "<a name='2'></a>\n",
    "# 2 - Test and Train Data"
   ]
  },
  {
   "cell_type": "code",
   "execution_count": 6,
   "id": "ef24c31a",
   "metadata": {},
   "outputs": [
    {
     "name": "stdout",
     "output_type": "stream",
     "text": [
      "Found 89 images belonging to 2 classes.\n",
      "Found 28 images belonging to 2 classes.\n"
     ]
    }
   ],
   "source": [
    "trdata = ImageDataGenerator()\n",
    "\n",
    "traindata = trdata.flow_from_directory(\"C:/Users/rsvmu/Downloads/Data/train\", \n",
    "                                                 target_size=(480,640), batch_size=16, \n",
    "                                                 class_mode='binary')\n",
    "tsdata = ImageDataGenerator()\n",
    "testdata = tsdata.flow_from_directory(\"C:/Users/rsvmu/Downloads/Data/Test\", \n",
    "                                                 target_size=(480,640), batch_size=16, \n",
    "                                                 class_mode='binary')\n"
   ]
  },
  {
   "cell_type": "markdown",
   "id": "b6bbff8a",
   "metadata": {},
   "source": [
    "<a name='3'></a>\n",
    "# 3 - VGG - 16 Model"
   ]
  },
  {
   "cell_type": "code",
   "execution_count": 7,
   "id": "cac450f0",
   "metadata": {},
   "outputs": [],
   "source": [
    "model = Sequential()\n",
    "model.add(Conv2D(input_shape=(480,640,3),filters=64,kernel_size=(3,3),padding=\"same\", activation=\"relu\"))\n",
    "model.add(Conv2D(filters=64,kernel_size=(3,3),padding=\"same\", activation=\"relu\"))\n",
    "model.add(MaxPool2D(pool_size=(2,2),strides=(2,2)))\n",
    "model.add(Conv2D(filters=128, kernel_size=(3,3), padding=\"same\", activation=\"relu\"))\n",
    "model.add(Conv2D(filters=128, kernel_size=(3,3), padding=\"same\", activation=\"relu\"))\n",
    "model.add(MaxPool2D(pool_size=(2,2),strides=(2,2)))\n",
    "model.add(Conv2D(filters=256, kernel_size=(3,3), padding=\"same\", activation=\"relu\"))\n",
    "model.add(Conv2D(filters=256, kernel_size=(3,3), padding=\"same\", activation=\"relu\"))\n",
    "model.add(Conv2D(filters=256, kernel_size=(3,3), padding=\"same\", activation=\"relu\"))\n",
    "model.add(MaxPool2D(pool_size=(2,2),strides=(2,2)))\n",
    "model.add(Conv2D(filters=512, kernel_size=(3,3), padding=\"same\", activation=\"relu\"))\n",
    "model.add(Conv2D(filters=512, kernel_size=(3,3), padding=\"same\", activation=\"relu\"))\n",
    "model.add(Conv2D(filters=512, kernel_size=(3,3), padding=\"same\", activation=\"relu\"))\n",
    "model.add(MaxPool2D(pool_size=(2,2),strides=(2,2)))\n",
    "model.add(Conv2D(filters=512, kernel_size=(3,3), padding=\"same\", activation=\"relu\"))\n",
    "model.add(Conv2D(filters=512, kernel_size=(3,3), padding=\"same\", activation=\"relu\"))\n",
    "model.add(Conv2D(filters=512, kernel_size=(3,3), padding=\"same\", activation=\"relu\"))\n",
    "# model.add(MaxPool2D(pool_size=(2,2),strides=(2,2)))\n",
    "model.add(GlobalAveragePooling2D())\n",
    "\n",
    "model.add(Flatten())\n",
    "model.add(Dense(units=4096,activation=\"relu\"))\n",
    "model.add(Dense(units=4096,activation=\"relu\"))\n",
    "model.add(Dense(units=2, activation=\"sigmoid\"))"
   ]
  },
  {
   "cell_type": "markdown",
   "id": "2ca711f5",
   "metadata": {},
   "source": [
    "<a name='4'></a>\n",
    "# 4 - Adam Optimizer"
   ]
  },
  {
   "cell_type": "code",
   "execution_count": 8,
   "id": "a20681f9",
   "metadata": {},
   "outputs": [],
   "source": [
    "from tensorflow.keras.optimizers import Adam\n",
    "opt = Adam(lr=0.001)\n",
    "model.compile(optimizer=opt, loss=keras.losses.binary_crossentropy, metrics=['accuracy'])"
   ]
  },
  {
   "cell_type": "markdown",
   "id": "cf8a9aa2",
   "metadata": {},
   "source": [
    "<a name='5'></a>\n",
    "# 5 -Saving the Best Model"
   ]
  },
  {
   "cell_type": "code",
   "execution_count": 17,
   "id": "ac529ead",
   "metadata": {},
   "outputs": [
    {
     "name": "stdout",
     "output_type": "stream",
     "text": [
      "Epoch 1/20\n",
      "81/81 [==============================] - ETA: 0s - loss: 6.2913 - accuracy: 0.6398\n",
      "Epoch 1: saving model to path\\Mask_BestModel.hdf5\n",
      "81/81 [==============================] - 129s 2s/step - loss: 6.2913 - accuracy: 0.6398 - val_loss: 0.6410 - val_accuracy: 0.8333\n",
      "Epoch 2/20\n",
      "81/81 [==============================] - ETA: 0s - loss: 0.6846 - accuracy: 0.7329\n",
      "Epoch 2: saving model to path\\Mask_BestModel.hdf5\n",
      "81/81 [==============================] - 115s 1s/step - loss: 0.6846 - accuracy: 0.7329 - val_loss: 1.9117 - val_accuracy: 0.1667\n",
      "Epoch 3/20\n",
      "81/81 [==============================] - ETA: 0s - loss: 0.5702 - accuracy: 0.7826\n",
      "Epoch 3: saving model to path\\Mask_BestModel.hdf5\n",
      "81/81 [==============================] - 95s 1s/step - loss: 0.5702 - accuracy: 0.7826 - val_loss: 5.4198 - val_accuracy: 0.1667\n",
      "Epoch 4/20\n",
      "81/81 [==============================] - ETA: 0s - loss: 0.5193 - accuracy: 0.8012\n",
      "Epoch 4: saving model to path\\Mask_BestModel.hdf5\n",
      "81/81 [==============================] - 86s 1s/step - loss: 0.5193 - accuracy: 0.8012 - val_loss: 6.8136 - val_accuracy: 0.1667\n",
      "Epoch 5/20\n",
      "81/81 [==============================] - ETA: 0s - loss: 0.4857 - accuracy: 0.7950\n",
      "Epoch 5: saving model to path\\Mask_BestModel.hdf5\n",
      "81/81 [==============================] - 87s 1s/step - loss: 0.4857 - accuracy: 0.7950 - val_loss: 6.7055 - val_accuracy: 0.1667\n",
      "Epoch 6/20\n",
      "81/81 [==============================] - ETA: 0s - loss: 0.7457 - accuracy: 0.7516\n",
      "Epoch 6: saving model to path\\Mask_BestModel.hdf5\n",
      "81/81 [==============================] - 87s 1s/step - loss: 0.7457 - accuracy: 0.7516 - val_loss: 0.6051 - val_accuracy: 0.8333\n",
      "Epoch 7/20\n",
      "81/81 [==============================] - ETA: 0s - loss: 0.5291 - accuracy: 0.7950\n",
      "Epoch 7: saving model to path\\Mask_BestModel.hdf5\n",
      "81/81 [==============================] - 86s 1s/step - loss: 0.5291 - accuracy: 0.7950 - val_loss: 0.4536 - val_accuracy: 0.8333\n",
      "Epoch 8/20\n",
      "81/81 [==============================] - ETA: 0s - loss: 0.4889 - accuracy: 0.8012\n",
      "Epoch 8: saving model to path\\Mask_BestModel.hdf5\n",
      "81/81 [==============================] - 87s 1s/step - loss: 0.4889 - accuracy: 0.8012 - val_loss: 0.8658 - val_accuracy: 0.1852\n",
      "Epoch 9/20\n",
      "81/81 [==============================] - ETA: 0s - loss: 0.4499 - accuracy: 0.7764\n",
      "Epoch 9: saving model to path\\Mask_BestModel.hdf5\n",
      "81/81 [==============================] - 86s 1s/step - loss: 0.4499 - accuracy: 0.7764 - val_loss: 0.4869 - val_accuracy: 0.8333\n",
      "Epoch 10/20\n",
      "81/81 [==============================] - ETA: 0s - loss: 0.4536 - accuracy: 0.8261\n",
      "Epoch 10: saving model to path\\Mask_BestModel.hdf5\n",
      "81/81 [==============================] - 86s 1s/step - loss: 0.4536 - accuracy: 0.8261 - val_loss: 1.6873 - val_accuracy: 0.1667\n",
      "Epoch 11/20\n",
      "81/81 [==============================] - ETA: 0s - loss: 0.5107 - accuracy: 0.7950\n",
      "Epoch 11: saving model to path\\Mask_BestModel.hdf5\n",
      "81/81 [==============================] - 86s 1s/step - loss: 0.5107 - accuracy: 0.7950 - val_loss: 0.4474 - val_accuracy: 0.8333\n",
      "Epoch 12/20\n",
      "81/81 [==============================] - ETA: 0s - loss: 0.5041 - accuracy: 0.7640\n",
      "Epoch 12: saving model to path\\Mask_BestModel.hdf5\n",
      "81/81 [==============================] - 86s 1s/step - loss: 0.5041 - accuracy: 0.7640 - val_loss: 1.1755 - val_accuracy: 0.2037\n",
      "Epoch 13/20\n",
      "81/81 [==============================] - ETA: 0s - loss: 0.4568 - accuracy: 0.8137\n",
      "Epoch 13: saving model to path\\Mask_BestModel.hdf5\n",
      "81/81 [==============================] - 86s 1s/step - loss: 0.4568 - accuracy: 0.8137 - val_loss: 0.6800 - val_accuracy: 0.4259\n",
      "Epoch 14/20\n",
      "81/81 [==============================] - ETA: 0s - loss: 0.4330 - accuracy: 0.8261\n",
      "Epoch 14: saving model to path\\Mask_BestModel.hdf5\n",
      "81/81 [==============================] - 86s 1s/step - loss: 0.4330 - accuracy: 0.8261 - val_loss: 0.6841 - val_accuracy: 0.6296\n",
      "Epoch 15/20\n",
      "81/81 [==============================] - ETA: 0s - loss: 0.4032 - accuracy: 0.8137\n",
      "Epoch 15: saving model to path\\Mask_BestModel.hdf5\n",
      "81/81 [==============================] - 87s 1s/step - loss: 0.4032 - accuracy: 0.8137 - val_loss: 1.0078 - val_accuracy: 0.4815\n",
      "Epoch 16/20\n",
      "81/81 [==============================] - ETA: 0s - loss: 0.4025 - accuracy: 0.8261\n",
      "Epoch 16: saving model to path\\Mask_BestModel.hdf5\n",
      "81/81 [==============================] - 85s 1s/step - loss: 0.4025 - accuracy: 0.8261 - val_loss: 2.1776 - val_accuracy: 0.2963\n",
      "Epoch 17/20\n",
      "81/81 [==============================] - ETA: 0s - loss: 0.3733 - accuracy: 0.8571\n",
      "Epoch 17: saving model to path\\Mask_BestModel.hdf5\n",
      "81/81 [==============================] - 86s 1s/step - loss: 0.3733 - accuracy: 0.8571 - val_loss: 0.4742 - val_accuracy: 0.8148\n",
      "Epoch 18/20\n",
      "81/81 [==============================] - ETA: 0s - loss: 0.3581 - accuracy: 0.8758\n",
      "Epoch 18: saving model to path\\Mask_BestModel.hdf5\n",
      "81/81 [==============================] - 87s 1s/step - loss: 0.3581 - accuracy: 0.8758 - val_loss: 0.5362 - val_accuracy: 0.7407\n",
      "Epoch 19/20\n",
      "81/81 [==============================] - ETA: 0s - loss: 0.3104 - accuracy: 0.8882\n",
      "Epoch 19: saving model to path\\Mask_BestModel.hdf5\n",
      "81/81 [==============================] - 86s 1s/step - loss: 0.3104 - accuracy: 0.8882 - val_loss: 1.5208 - val_accuracy: 0.2963\n",
      "Epoch 20/20\n",
      "81/81 [==============================] - ETA: 0s - loss: 0.2920 - accuracy: 0.8882\n",
      "Epoch 20: saving model to path\\Mask_BestModel.hdf5\n",
      "81/81 [==============================] - 86s 1s/step - loss: 0.2920 - accuracy: 0.8882 - val_loss: 0.6757 - val_accuracy: 0.6852\n"
     ]
    }
   ],
   "source": [
    "from tensorflow.keras.callbacks import ModelCheckpoint, EarlyStopping\n",
    "checkpoint = ModelCheckpoint(\"vgg16_1.h5\", monitor='val_acc', verbose=1, save_best_only=True, save_weights_only=False, mode='auto', period=1)\n",
    "early = EarlyStopping(monitor='val_acc', min_delta=0, patience=20, verbose=1, mode='auto')\n",
    "hist = model.fit_generator(steps_per_epoch=20,generator=traindata, validation_data= testdata, validation_steps=10,epochs=20,callbacks=[checkpoint,early])"
   ]
  },
  {
   "cell_type": "code",
   "execution_count": null,
   "id": "f8022a57",
   "metadata": {},
   "outputs": [],
   "source": []
  }
 ],
 "metadata": {
  "kernelspec": {
   "display_name": "Python 3",
   "language": "python",
   "name": "python3"
  },
  "language_info": {
   "codemirror_mode": {
    "name": "ipython",
    "version": 3
   },
   "file_extension": ".py",
   "mimetype": "text/x-python",
   "name": "python",
   "nbconvert_exporter": "python",
   "pygments_lexer": "ipython3",
   "version": "3.8.8"
  }
 },
 "nbformat": 4,
 "nbformat_minor": 5
}
